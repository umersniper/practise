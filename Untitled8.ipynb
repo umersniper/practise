{
 "cells": [
  {
   "cell_type": "code",
   "execution_count": 2,
   "id": "f1b4b6e1",
   "metadata": {},
   "outputs": [
    {
     "name": "stdout",
     "output_type": "stream",
     "text": [
      "True\n"
     ]
    }
   ],
   "source": [
    "z=[\"apple\",\"banana\",\"cherry\"]\n",
    "x=\"cherry\"\n",
    "print(x in z)"
   ]
  },
  {
   "cell_type": "code",
   "execution_count": 3,
   "id": "150a4a10",
   "metadata": {},
   "outputs": [
    {
     "name": "stdout",
     "output_type": "stream",
     "text": [
      "a\n",
      "b\n",
      "c\n",
      "d\n",
      "e\n",
      "f\n",
      "g\n"
     ]
    }
   ],
   "source": [
    "print(\"a\")\n",
    "print(\"b\")\n",
    "print(\"c\")\n",
    "print(\"d\")\n",
    "print(\"e\")\n",
    "print(\"f\")\n",
    "print(\"g\")"
   ]
  },
  {
   "cell_type": "code",
   "execution_count": 5,
   "id": "d9ef3554",
   "metadata": {},
   "outputs": [
    {
     "name": "stdout",
     "output_type": "stream",
     "text": [
      "high\n"
     ]
    }
   ],
   "source": [
    "a=6\n",
    "if a>5:\n",
    "    print(\"high\")\n",
    "    "
   ]
  },
  {
   "cell_type": "code",
   "execution_count": 6,
   "id": "a9039e8a",
   "metadata": {},
   "outputs": [
    {
     "name": "stdout",
     "output_type": "stream",
     "text": [
      "low\n"
     ]
    }
   ],
   "source": [
    "a=4\n",
    "if a>5:\n",
    "    print(\"high\")\n",
    "elif a<5:\n",
    "    print(\"low\")"
   ]
  },
  {
   "cell_type": "code",
   "execution_count": 8,
   "id": "0ded0db3",
   "metadata": {},
   "outputs": [
    {
     "name": "stdout",
     "output_type": "stream",
     "text": [
      "C\n"
     ]
    }
   ],
   "source": [
    "a=90\n",
    "if a>60:\n",
    "    print(\"C\")\n",
    "elif a>70:\n",
    "    print(\"B\")\n",
    "elif a>80:\n",
    "    print(\"A\")"
   ]
  },
  {
   "cell_type": "code",
   "execution_count": 15,
   "id": "dc5c9f5a",
   "metadata": {},
   "outputs": [
    {
     "name": "stdout",
     "output_type": "stream",
     "text": [
      "plz Select Value6\n",
      "Invalid Number\n"
     ]
    }
   ],
   "source": [
    "a=int(input(\"plz Select Value\"))\n",
    "if a==1:\n",
    "    print(\"SMS Package\")\n",
    "elif a==2:\n",
    "    print(\"Call Package\")\n",
    "elif a==3:\n",
    "    print(\"Internt Package\")\n",
    "elif a==4:\n",
    "    print(\"Bundle Package\")\n",
    "elif a==0:\n",
    "    print(\"Customer officer\")\n",
    "else:\n",
    "    print(\"Invalid Number\")"
   ]
  },
  {
   "cell_type": "code",
   "execution_count": 21,
   "id": "5eac51cd",
   "metadata": {},
   "outputs": [
    {
     "name": "stdout",
     "output_type": "stream",
     "text": [
      "Enter Purchasing Rate400\n",
      "Enter Selling Rate500\n",
      "Profit 100\n"
     ]
    }
   ],
   "source": [
    "puchaseItem=int(input(\"Enter Purchasing Rate\"))\n",
    "sellingItem=int(input(\"Enter Selling Rate\"))\n",
    "if puchaseItem>sellingItem:\n",
    "    value=puchaseItem-sellingItem\n",
    "    print(\"Loss of \",value)\n",
    "elif puchaseItem<sellingItem:\n",
    "    value=sellingItem-puchaseItem\n",
    "    print(\"Profit\",value)\n",
    "else:\n",
    "    print(\"equal\")"
   ]
  },
  {
   "cell_type": "code",
   "execution_count": 7,
   "id": "2f9557e7",
   "metadata": {},
   "outputs": [
    {
     "name": "stdout",
     "output_type": "stream",
     "text": [
      "A is not High\n"
     ]
    }
   ],
   "source": [
    "a=5\n",
    "b=6\n",
    "c=2\n",
    "if a>b or a<c:\n",
    "    print(\"A is high\")\n",
    "else:\n",
    "    print(\"A is not High\")"
   ]
  },
  {
   "cell_type": "code",
   "execution_count": null,
   "id": "40873744",
   "metadata": {},
   "outputs": [],
   "source": []
  }
 ],
 "metadata": {
  "kernelspec": {
   "display_name": "Python 3 (ipykernel)",
   "language": "python",
   "name": "python3"
  },
  "language_info": {
   "codemirror_mode": {
    "name": "ipython",
    "version": 3
   },
   "file_extension": ".py",
   "mimetype": "text/x-python",
   "name": "python",
   "nbconvert_exporter": "python",
   "pygments_lexer": "ipython3",
   "version": "3.9.7"
  }
 },
 "nbformat": 4,
 "nbformat_minor": 5
}
