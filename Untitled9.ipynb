{
 "cells": [
  {
   "cell_type": "code",
   "execution_count": 3,
   "id": "473b7e49",
   "metadata": {},
   "outputs": [
    {
     "name": "stdout",
     "output_type": "stream",
     "text": [
      "5\n",
      "7\n"
     ]
    }
   ],
   "source": [
    "a=5\n",
    "print(a)\n",
    "a=7\n",
    "print(a)"
   ]
  },
  {
   "cell_type": "code",
   "execution_count": 17,
   "id": "ba46c748",
   "metadata": {},
   "outputs": [
    {
     "name": "stdout",
     "output_type": "stream",
     "text": [
      "Enter Your Order200\n",
      "You dont have enough money to buy\n"
     ]
    }
   ],
   "source": [
    "order=input(\"Enter Your Order\")\n",
    "if order==\"deal1\":\n",
    "    print(\"Rs 780 only\")\n",
    "elif order==\"deal2\":\n",
    "    print(\"Rs 1100 only\")\n",
    "elif order==\"deal3\":\n",
    "    print(\"Rs 1800 Only\")\n",
    "else:\n",
    "    print(\"You dont have enough money to buy\")"
   ]
  },
  {
   "cell_type": "code",
   "execution_count": 25,
   "id": "b40f97fe",
   "metadata": {},
   "outputs": [
    {
     "name": "stdout",
     "output_type": "stream",
     "text": [
      "Enter Usernameszabist\n",
      "Enter Passwordzabtech\n",
      "Welcome\n"
     ]
    }
   ],
   "source": [
    "user=input(\"Enter Username\")\n",
    "pas=input(\"Enter Password\")\n",
    "if user==\"szabist\" or pas==\"zabtech\":\n",
    "    print(\"Welcome\")\n",
    "else:\n",
    "    print(\"Invalid \")"
   ]
  },
  {
   "cell_type": "code",
   "execution_count": null,
   "id": "555b5c51",
   "metadata": {},
   "outputs": [],
   "source": []
  },
  {
   "cell_type": "code",
   "execution_count": null,
   "id": "8257a0f0",
   "metadata": {},
   "outputs": [],
   "source": []
  }
 ],
 "metadata": {
  "kernelspec": {
   "display_name": "Python 3 (ipykernel)",
   "language": "python",
   "name": "python3"
  },
  "language_info": {
   "codemirror_mode": {
    "name": "ipython",
    "version": 3
   },
   "file_extension": ".py",
   "mimetype": "text/x-python",
   "name": "python",
   "nbconvert_exporter": "python",
   "pygments_lexer": "ipython3",
   "version": "3.9.7"
  }
 },
 "nbformat": 4,
 "nbformat_minor": 5
}
