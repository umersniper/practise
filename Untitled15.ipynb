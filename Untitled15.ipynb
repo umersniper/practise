{
 "cells": [
  {
   "cell_type": "code",
   "execution_count": 3,
   "id": "9ff4608e",
   "metadata": {},
   "outputs": [
    {
     "name": "stdout",
     "output_type": "stream",
     "text": [
      "big\n"
     ]
    }
   ],
   "source": [
    "#nested \n",
    "a=10\n",
    "if a>5:\n",
    "    if a<10:\n",
    "        print(\"perfect\")\n",
    "    else:\n",
    "        if a>=10:\n",
    "            print(\"big\")\n",
    "        else:\n",
    "            print(\"small\")\n",
    "else:\n",
    "    print(\"same\")"
   ]
  },
  {
   "cell_type": "code",
   "execution_count": 28,
   "id": "e68ef2c5",
   "metadata": {},
   "outputs": [
    {
     "name": "stdout",
     "output_type": "stream",
     "text": [
      "jjj"
     ]
    }
   ],
   "source": [
    "#  0\n",
    "for i in  range(3):\n",
    "    for j in range(i):\n",
    "        print(\"j\",end=\"\")"
   ]
  },
  {
   "cell_type": "code",
   "execution_count": 31,
   "id": "6b64bfb8",
   "metadata": {},
   "outputs": [
    {
     "name": "stdout",
     "output_type": "stream",
     "text": [
      "000\n",
      "111\n",
      "222\n",
      "333\n"
     ]
    }
   ],
   "source": [
    "#1\n",
    "for i in range(4):\n",
    "    #     2\n",
    "    for j in range(3):\n",
    "        #     1\n",
    "        print(i,end=\"\")\n",
    "    print()#"
   ]
  },
  {
   "cell_type": "code",
   "execution_count": null,
   "id": "25d7a06f",
   "metadata": {},
   "outputs": [],
   "source": []
  }
 ],
 "metadata": {
  "kernelspec": {
   "display_name": "Python 3 (ipykernel)",
   "language": "python",
   "name": "python3"
  },
  "language_info": {
   "codemirror_mode": {
    "name": "ipython",
    "version": 3
   },
   "file_extension": ".py",
   "mimetype": "text/x-python",
   "name": "python",
   "nbconvert_exporter": "python",
   "pygments_lexer": "ipython3",
   "version": "3.9.7"
  }
 },
 "nbformat": 4,
 "nbformat_minor": 5
}
